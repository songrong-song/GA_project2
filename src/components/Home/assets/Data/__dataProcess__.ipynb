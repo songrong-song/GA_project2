{
 "cells": [
  {
   "cell_type": "code",
   "execution_count": 111,
   "metadata": {},
   "outputs": [],
   "source": [
    "# two tasks for data processing: \n",
    "# 1. SVY21 code conversion \n",
    "# 2. data reformattting, reorganise the data from transaction based to data base\n",
    "\n",
    "import json\n",
    "from SVY21 import SVY21 \n",
    "cv = SVY21() \n",
    "# SVY21 is a Singapore coordinator\n",
    "\n",
    "# Opening JSON file\n",
    "f = open('data.json')\n",
    "\n",
    "# returns JSON object as\n",
    "# a dictionary\n",
    "data = json.load(f)\n",
    "\n",
    "# Iterating through the json\n",
    "# list\n",
    "result = {}\n",
    "project = []\n",
    "for i in data['Result']:\n",
    "    if ('x' in i and 'y' in i):\n",
    "        (N, E) = (i['x'], i['y'])\n",
    "        (lat, lon)= cv.computeLatLon(float(N), float(E))\n",
    "        i['location'] = {'lat': lat,'lng': lon}\n",
    "    \n",
    "    if i['project'] in project:\n",
    "        result[i['project']]['transaction'].append(i['transaction'])\n",
    "    else:\n",
    "        result[i['project']] = i\n",
    "        \n"
   ]
  },
  {
   "cell_type": "code",
   "execution_count": 116,
   "metadata": {},
   "outputs": [],
   "source": [
    "list_ = []\n",
    "for keys, item in result.items():\n",
    "    item['name'] = keys\n",
    "    item['status'] = \"mission\"\n",
    "    list_.append(item)"
   ]
  },
  {
   "cell_type": "code",
   "execution_count": 118,
   "metadata": {},
   "outputs": [],
   "source": [
    "def convert_to_json_serializable(obj):\n",
    "    if isinstance(obj, set):\n",
    "        return list(obj)\n",
    "    return obj\n",
    "\n",
    "# Save dictionary as JSON file\n",
    "with open(\"processedData.json\", \"w\") as json_file:\n",
    "    json.dump(list_, json_file, default=convert_to_json_serializable)\n",
    "    "
   ]
  }
 ],
 "metadata": {
  "kernelspec": {
   "display_name": "CPIB",
   "language": "python",
   "name": "python3"
  },
  "language_info": {
   "codemirror_mode": {
    "name": "ipython",
    "version": 3
   },
   "file_extension": ".py",
   "mimetype": "text/x-python",
   "name": "python",
   "nbconvert_exporter": "python",
   "pygments_lexer": "ipython3",
   "version": "3.8.12"
  },
  "orig_nbformat": 4
 },
 "nbformat": 4,
 "nbformat_minor": 2
}
